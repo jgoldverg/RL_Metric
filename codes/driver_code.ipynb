{
 "cells": [
  {
   "cell_type": "code",
   "execution_count": null,
   "id": "4f5b3471",
   "metadata": {},
   "outputs": [],
   "source": [
    "import argparse\n",
    "import os\n",
    "import pandas as pd\n",
    "import numpy as np\n",
    "from sklearn.model_selection import train_test_split\n",
    "import pydot\n",
    "import matplotlib.pyplot as plt\n",
    "from fileData import *\n",
    "from netEnv import *\n",
    "import time\n",
    "import pickle\n",
    "import math\n",
    "import sys\n",
    "import matplotlib.pyplot as plt\n",
    "import seaborn as sns\n",
    "from matplotlib.colors import ListedColormap\n",
    "import cmocean\n",
    "from math import sqrt\n",
    "import random\n",
    "code_path = sys.path[0]"
   ]
  },
  {
   "cell_type": "code",
   "execution_count": null,
   "id": "2b8a6610",
   "metadata": {},
   "outputs": [],
   "source": [
    "requiredFields=['FileCount','AvgFileSize','BufSize','Bandwidth','AvgRtt','CC_Level','P_Level','PP_Level','numActiveCores','frequency','TotalAvgTput','TotalEnergy','DataTransferEnergy']\n",
    "LabelName='TotalAvgTput'\n",
    "fileData_chameleon=ReadFile(code_path+'/../Dataset/Chameleon_Combined_all.csv',requiredFields)\n",
    "optimal_throughput_dictionary_chameleon=fileData_chameleon.return_map_for_tuple_to_throughput()\n",
    "filedata_grouped_df=fileData_chameleon.get_grouped_df()\n",
    "print(\"There are total %d number of groups based on FileCount, AvgFileSize,BufSize, Bandwidth, AvgRtt\"%filedata_grouped_df.ngroups)\n",
    "total_test_log=0\n",
    "for key in filedata_grouped_df.groups.keys():\n",
    "    print(f\"group key is {key}\")\n",
    "    key_specific_test_logs=fileData_chameleon.return_group_specific_test_logs(key)\n",
    "    total_test_log+=len(key_specific_test_logs)\n",
    "    print(f\"key_specific_test_logs {len(key_specific_test_logs)}\")\n",
    "print(f\"Total Test logs {total_test_log}\")\n",
    "print(f\"Total logs {len(fileData_chameleon.logs)}\")"
   ]
  },
  {
   "cell_type": "code",
   "execution_count": null,
   "id": "fb76e97c",
   "metadata": {},
   "outputs": [],
   "source": [
    "key=(32, 34.9238114, 40, 10, 30)\n",
    "key_specific_test_logs=fileData_chameleon.return_group_specific_test_logs(key)\n",
    "key_specific_test_logs"
   ]
  }
 ],
 "metadata": {
  "kernelspec": {
   "display_name": "Python 3 (ipykernel)",
   "language": "python",
   "name": "python3"
  },
  "language_info": {
   "codemirror_mode": {
    "name": "ipython",
    "version": 3
   },
   "file_extension": ".py",
   "mimetype": "text/x-python",
   "name": "python",
   "nbconvert_exporter": "python",
   "pygments_lexer": "ipython3",
   "version": "3.10.2"
  }
 },
 "nbformat": 4,
 "nbformat_minor": 5
}
