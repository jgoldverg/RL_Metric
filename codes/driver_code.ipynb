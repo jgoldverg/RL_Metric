{
 "cells": [
  {
   "cell_type": "code",
   "execution_count": null,
   "id": "4f5b3471",
   "metadata": {},
   "outputs": [],
   "source": [
    "import argparse\n",
    "import os\n",
    "import pandas as pd\n",
    "import numpy as np\n",
    "from sklearn.model_selection import train_test_split\n",
    "import pydot\n",
    "import matplotlib.pyplot as plt\n",
    "from fileData import *\n",
    "from netEnv import *\n",
    "import time\n",
    "import pickle\n",
    "import math\n",
    "import sys\n",
    "import matplotlib.pyplot as plt\n",
    "import seaborn as sns\n",
    "from matplotlib.colors import ListedColormap\n",
    "import cmocean\n",
    "from math import sqrt\n",
    "import random\n",
    "code_path = sys.path[0]"
   ]
  },
  {
   "cell_type": "code",
   "execution_count": null,
   "id": "2b8a6610",
   "metadata": {},
   "outputs": [],
   "source": [
    "requiredFields=['FileCount','AvgFileSize','BufSize','Bandwidth','AvgRtt','CC_Level','P_Level','PP_Level','numActiveCores','frequency','TotalAvgTput','TotalEnergy','DataTransferEnergy']\n",
    "LabelName='TotalAvgTput'\n",
    "fileData_chameleon=ReadFile(code_path+'/../Dataset/Chameleon_Combined_all.csv',requiredFields)\n",
    "optimal_throughput_dictionary_chameleon=fileData_chameleon.return_map_for_tuple_to_throughput()\n",
    "filedata_grouped_df=fileData_chameleon.get_grouped_df()\n",
    "print(\"There are total %d number of groups based on FileCount, AvgFileSize,BufSize, Bandwidth, AvgRtt\"%filedata_grouped_df.ngroups)\n",
    "total_test_log=0\n",
    "for key in filedata_grouped_df.groups.keys():\n",
    "    print(f\"group key is {key}\")\n",
    "    key_specific_test_logs=fileData_chameleon.return_group_specific_test_logs(key)\n",
    "    total_test_log+=len(key_specific_test_logs)\n",
    "    print(f\"key_specific_test_logs {len(key_specific_test_logs)}\")\n",
    "print(f\"Total Test logs {total_test_log}\")\n",
    "print(f\"Total logs {len(fileData_chameleon.logs)}\")"
   ]
  },
  {
   "cell_type": "code",
   "execution_count": null,
   "id": "fb76e97c",
   "metadata": {},
   "outputs": [],
   "source": [
    "key=(32, 34.9238114, 40, 10, 30)\n",
    "key_specific_test_logs=fileData_chameleon.return_group_specific_test_logs(key)\n",
    "for log in key_specific_test_logs:\n",
    "    print()\n",
    "    print(log)"
   ]
  },
  {
   "cell_type": "code",
   "execution_count": null,
   "id": "021af866",
   "metadata": {},
   "outputs": [],
   "source": [
    "print(type(fileData_chameleon.get_grouped_df()))"
   ]
  },
  {
   "cell_type": "code",
   "execution_count": null,
   "id": "001984fb",
   "metadata": {},
   "outputs": [],
   "source": [
    "selectedgroup=environmentGroup(fileData_chameleon.get_grouped_df(),key)\n",
    "print(type(selectedgroup.return_a_group()))\n",
    "a_group=selectedgroup.return_a_group()\n",
    "print(a_group)\n",
    "print(selectedgroup.return_state_list())"
   ]
  },
  {
   "cell_type": "code",
   "execution_count": null,
   "id": "ce486d7d-9c5f-427d-8189-b2e9dddd768e",
   "metadata": {},
   "outputs": [],
   "source": [
    "print(selectedgroup.return_action_list())"
   ]
  },
  {
   "cell_type": "code",
   "execution_count": null,
   "id": "744ab79b-d1f1-41b0-8b33-4149f2c91e60",
   "metadata": {},
   "outputs": [],
   "source": [
    "# for key in filedata_grouped_df.groups.keys():\n",
    "#     envGrp = environmentGroup(filedata_grouped_df, key)\n",
    "#     print(len(envGrp.return_action_list()))\n",
    "print(selectedgroup.group_maximum_throughput())\n",
    "env = NetEnvironment(selectedgroup)"
   ]
  },
  {
   "cell_type": "code",
   "execution_count": null,
   "id": "bab63c6d-b0b7-408f-bbbc-41aa7fc137d1",
   "metadata": {},
   "outputs": [],
   "source": [
    "# print(selectedgroup.return_group_key_throughput((1,1,1)))\n",
    "done = False\n",
    "while not done:\n",
    "    nob, rew, done, _ = env.step((1,1,1))\n",
    "    print(nob, rew)"
   ]
  },
  {
   "cell_type": "code",
   "execution_count": null,
   "id": "55b2ee23",
   "metadata": {},
   "outputs": [],
   "source": [
    "for index, row in a_group.iterrows():\n",
    "    print(index ,row)"
   ]
  },
  {
   "cell_type": "code",
   "execution_count": null,
   "id": "b76ac1cc",
   "metadata": {},
   "outputs": [],
   "source": [
    "group_from_grouped_df=selectedgroup.return_group_from_grouped_df()\n",
    "total_key=0\n",
    "for key in filedata_grouped_df.groups.keys():\n",
    "    print(f\"group key is {key}\")\n",
    "    total_key+=1\n",
    "print(f\"total number of keys are {total_key}\")\n"
   ]
  },
  {
   "cell_type": "code",
   "execution_count": null,
   "id": "a2494f26",
   "metadata": {},
   "outputs": [],
   "source": [
    "df=a_group\n",
    "df"
   ]
  },
  {
   "cell_type": "code",
   "execution_count": null,
   "id": "f0a36111",
   "metadata": {},
   "outputs": [],
   "source": [
    "df_group=df.groupby(['CC_Level','P_Level','PP_Level','numActiveCores','frequency'])\n",
    "df_group"
   ]
  },
  {
   "cell_type": "code",
   "execution_count": null,
   "id": "5dec15db",
   "metadata": {},
   "outputs": [],
   "source": [
    "total_key=0\n",
    "for key in df_group.groups.keys():\n",
    "    print(f\"group key is {key}\")\n",
    "    total_key+=1\n",
    "print(f\"total number of keys are {total_key}\")"
   ]
  },
  {
   "cell_type": "code",
   "execution_count": null,
   "id": "c2d6f271",
   "metadata": {},
   "outputs": [],
   "source": [
    "print(selectedgroup.return_action_list())\n",
    "print(len(selectedgroup.return_action_list()))"
   ]
  },
  {
   "cell_type": "code",
   "execution_count": null,
   "id": "753ca910",
   "metadata": {},
   "outputs": [],
   "source": [
    "print(selectedgroup.return_state_list())\n",
    "print(len(selectedgroup.return_state_list()))"
   ]
  },
  {
   "cell_type": "code",
   "execution_count": null,
   "id": "2c482861",
   "metadata": {},
   "outputs": [],
   "source": [
    "print(selectedgroup.retun_group_key_throughput((4, 1, 2)))"
   ]
  }
 ],
 "metadata": {
  "kernelspec": {
   "display_name": "Python 3 (ipykernel)",
   "language": "python",
   "name": "python3"
  },
  "language_info": {
   "codemirror_mode": {
    "name": "ipython",
    "version": 3
   },
   "file_extension": ".py",
   "mimetype": "text/x-python",
   "name": "python",
   "nbconvert_exporter": "python",
   "pygments_lexer": "ipython3",
   "version": "3.10.2"
  }
 },
 "nbformat": 4,
 "nbformat_minor": 5
}
