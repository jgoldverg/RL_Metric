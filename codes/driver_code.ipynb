{
 "cells": [
  {
   "cell_type": "code",
   "execution_count": 2,
   "id": "4f5b3471",
   "metadata": {},
   "outputs": [],
   "source": [
    "import argparse\n",
    "import os\n",
    "import pandas as pd\n",
    "import numpy as np\n",
    "from sklearn.model_selection import train_test_split\n",
    "import pydot\n",
    "import matplotlib.pyplot as plt\n",
    "from fileData import *\n",
    "import time\n",
    "import pickle\n",
    "import math\n",
    "import sys\n",
    "import matplotlib.pyplot as plt\n",
    "import seaborn as sns\n",
    "from matplotlib.colors import ListedColormap\n",
    "import cmocean\n",
    "from math import sqrt\n",
    "import random\n"
   ]
  },
  {
   "cell_type": "code",
   "execution_count": 5,
   "id": "2b8a6610",
   "metadata": {},
   "outputs": [
    {
     "name": "stdout",
     "output_type": "stream",
     "text": [
      "There are total 38 number of groups based on FileCount, AvgFileSize,BufSize, Bandwidth, AvgRtt\n",
      "(32, 34.9238114, 40, 10, 30)\n",
      "(32, 34.9238114, 40, 10, 40)\n",
      "(32, 34.9238114, 40, 10, 50)\n",
      "(32, 222.6392977, 40, 10, 30)\n",
      "(32, 222.6392977, 40, 10, 40)\n",
      "(32, 222.6392977, 40, 10, 50)\n",
      "(32, 222.6392977, 40, 10, 60)\n",
      "(32, 222.64, 40, 10, 30)\n",
      "(32, 222.64, 40, 10, 40)\n",
      "(32, 222.64, 40, 10, 50)\n",
      "(32, 222.64, 40, 10, 60)\n",
      "(32, 222.64, 40, 10, 70)\n",
      "(32, 222.64, 40, 10, 80)\n",
      "(32, 222.64, 40, 10, 90)\n",
      "(64, 222.6343047, 40, 10, 30)\n",
      "(64, 222.6343047, 40, 10, 40)\n",
      "(64, 222.6343047, 40, 10, 60)\n",
      "(128, 222.7841896, 40, 10, 30)\n",
      "(128, 222.7841896, 40, 10, 40)\n",
      "(250, 2.410113346, 40, 10, 30)\n",
      "(250, 2.410113346, 40, 10, 40)\n",
      "(250, 2.410113346, 40, 10, 50)\n",
      "(250, 2.410113346, 40, 10, 60)\n",
      "(250, 2.410113346, 40, 10, 70)\n",
      "(250, 2.410113346, 40, 10, 80)\n",
      "(250, 2.410113346, 40, 10, 90)\n",
      "(500, 0.098544573, 40, 10, 30)\n",
      "(500, 0.098544573, 40, 10, 40)\n",
      "(500, 100.91, 40, 10, 30)\n",
      "(500, 100.91, 40, 10, 40)\n",
      "(500, 100.91, 40, 10, 50)\n",
      "(500, 100.91, 40, 10, 70)\n",
      "(500, 100.91, 40, 10, 80)\n",
      "(500, 100.91, 40, 10, 90)\n",
      "(2500, 2.40051372, 40, 10, 30)\n",
      "(2500, 2.40051372, 40, 10, 40)\n",
      "(2500, 2.40051372, 40, 10, 50)\n",
      "(10000, 0.099238106, 40, 10, 30)\n"
     ]
    }
   ],
   "source": [
    "requiredFields=['FileCount','AvgFileSize','BufSize','Bandwidth','AvgRtt','CC_Level','P_Level','PP_Level','numActiveCores','frequency','TotalAvgTput','TotalEnergy','DataTransferEnergy']\n",
    "LabelName='TotalAvgTput'\n",
    "fileData_chameleon=ReadFile('/Users/jamil/Desktop/RL_Final/RL_Metric/Dataset/Chameleon_Combined_all.csv',requiredFields)\n",
    "optimal_throughput_dictionary_chameleon=fileData_chameleon.return_map_for_tuple_to_throughput()\n",
    "test_logs_chameleon=fileData_chameleon.return_test_logs()\n",
    "filedata_grouped_df=fileData_chameleon.get_grouped_df()\n",
    "print(\"There are total %d number of groups based on FileCount, AvgFileSize,BufSize, Bandwidth, AvgRtt\"%filedata_grouped_df.ngroups)\n",
    "for key in filedata_grouped_df.groups.keys():\n",
    "    print(key)"
   ]
  },
  {
   "cell_type": "code",
   "execution_count": null,
   "id": "fb76e97c",
   "metadata": {},
   "outputs": [],
   "source": []
  }
 ],
 "metadata": {
  "kernelspec": {
   "display_name": "Python 3 (ipykernel)",
   "language": "python",
   "name": "python3"
  },
  "language_info": {
   "codemirror_mode": {
    "name": "ipython",
    "version": 3
   },
   "file_extension": ".py",
   "mimetype": "text/x-python",
   "name": "python",
   "nbconvert_exporter": "python",
   "pygments_lexer": "ipython3",
   "version": "3.8.0"
  }
 },
 "nbformat": 4,
 "nbformat_minor": 5
}
