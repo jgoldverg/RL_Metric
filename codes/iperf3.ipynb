{
 "cells": [
  {
   "cell_type": "code",
   "execution_count": 55,
   "id": "75299b7f",
   "metadata": {},
   "outputs": [],
   "source": [
    "import os\n",
    "import time\n",
    "import numpy as np\n",
    "import re"
   ]
  },
  {
   "cell_type": "code",
   "execution_count": 66,
   "id": "ba427642",
   "metadata": {},
   "outputs": [
    {
     "data": {
      "text/plain": [
       "'[SUM]   0.00-1.00   sec  4.74 MBytes  39.7 Mbits/sec                  sender'"
      ]
     },
     "execution_count": 66,
     "metadata": {},
     "output_type": "execute_result"
    }
   ],
   "source": [
    "server_ip=\"128.205.71.134\"\n",
    "server_port=\"5201\"\n",
    "stream_number=\"4\"\n",
    "time_duration=\"1\"\n",
    "# command=\"iperf3 -ZVc \"+server_ip+ \" --port \"+server_port+\" -P\"+stream_number+\" -t\"+time_duration+\" -l8192\"\n",
    "regex = '\\d+'\n",
    "data = os.popen(command).read().split(\"\\n\")[-7]\n",
    "match = re.findall(regex, data)\n",
    "data"
   ]
  },
  {
   "cell_type": "code",
   "execution_count": 76,
   "id": "3ae468e2",
   "metadata": {},
   "outputs": [
    {
     "name": "stdout",
     "output_type": "stream",
     "text": [
      "896Mbits/sec\n"
     ]
    }
   ],
   "source": [
    "server_ip=\"128.205.71.134\"\n",
    "server_port=\"5201\"\n",
    "stream_number=\"4\"\n",
    "time_duration=\"1\"\n",
    "# command=\"iperf3 -ZVc \"+server_ip+ \" --port \"+server_port+\" -P\"+stream_number+\" -t\"+time_duration+\" -l8192\"\n",
    "data = os.popen(command).read().split(\"\\n\")[-6]\n",
    "# regex = '\\d+'\n",
    "regrex1= '\\S+'\n",
    "# throughput = re.findall(regex, data)[-1]\n",
    "result_throughput=re.findall(regrex1,data)\n",
    "final_throughput=result_throughput[-3]+result_throughput[-2]\n",
    "print(final_throughput)"
   ]
  },
  {
   "cell_type": "code",
   "execution_count": 65,
   "id": "1cf30475",
   "metadata": {},
   "outputs": [
    {
     "data": {
      "text/plain": [
       "['iperf 3.11',\n",
       " 'Darwin Jamils-MacBook-Pro-7.local 21.4.0 Darwin Kernel Version 21.4.0: Fri Mar 18 00:45:05 PDT 2022; root:xnu-8020.101.4~15/RELEASE_X86_64 x86_64',\n",
       " 'Control connection MSS 1448',\n",
       " 'Time: Sat, 07 May 2022 22:59:44 UTC',\n",
       " 'Connecting to host 128.205.71.134, port 5201',\n",
       " '      Cookie: vzk4hlgiokar2mbxwtnnhctb2q7b7hzdzrkl',\n",
       " '      TCP MSS: 1448 (default)',\n",
       " '[  5] local 128.205.220.131 port 55152 connected to 128.205.71.134 port 5201',\n",
       " '[  7] local 128.205.220.131 port 55153 connected to 128.205.71.134 port 5201',\n",
       " '[  9] local 128.205.220.131 port 55154 connected to 128.205.71.134 port 5201',\n",
       " '[ 11] local 128.205.220.131 port 55155 connected to 128.205.71.134 port 5201',\n",
       " 'Starting Test: protocol: TCP, 4 streams, 8192 byte blocks, omitting 0 seconds, 1 second test, tos 0',\n",
       " '[ ID] Interval           Transfer     Bitrate',\n",
       " '[  5]   0.00-1.00   sec  1.15 MBytes  9.63 Mbits/sec                  ',\n",
       " '[  7]   0.00-1.00   sec  1.18 MBytes  9.88 Mbits/sec                  ',\n",
       " '[  9]   0.00-1.00   sec  1.16 MBytes  9.72 Mbits/sec                  ',\n",
       " '[ 11]   0.00-1.00   sec  1.16 MBytes  9.72 Mbits/sec                  ',\n",
       " '[SUM]   0.00-1.00   sec  4.64 MBytes  38.9 Mbits/sec                  ',\n",
       " '- - - - - - - - - - - - - - - - - - - - - - - - -',\n",
       " 'Test Complete. Summary Results:',\n",
       " '[ ID] Interval           Transfer     Bitrate',\n",
       " '[  5]   0.00-1.00   sec  1.15 MBytes  9.63 Mbits/sec                  sender',\n",
       " '[  5]   0.00-1.01   sec  1.03 MBytes  8.60 Mbits/sec                  receiver',\n",
       " '[  7]   0.00-1.00   sec  1.18 MBytes  9.88 Mbits/sec                  sender',\n",
       " '[  7]   0.00-1.01   sec  1.04 MBytes  8.66 Mbits/sec                  receiver',\n",
       " '[  9]   0.00-1.00   sec  1.16 MBytes  9.72 Mbits/sec                  sender',\n",
       " '[  9]   0.00-1.01   sec  1.04 MBytes  8.68 Mbits/sec                  receiver',\n",
       " '[ 11]   0.00-1.00   sec  1.16 MBytes  9.72 Mbits/sec                  sender',\n",
       " '[ 11]   0.00-1.01   sec  1.04 MBytes  8.69 Mbits/sec                  receiver',\n",
       " '[SUM]   0.00-1.00   sec  4.64 MBytes  38.9 Mbits/sec                  sender',\n",
       " '[SUM]   0.00-1.01   sec  4.15 MBytes  34.6 Mbits/sec                  receiver',\n",
       " 'CPU Utilization: local/sender 3.0% (0.6%u/2.4%s), remote/receiver 0.0% (0.0%u/0.0%s)',\n",
       " 'rcv_tcp_congestion cubic',\n",
       " '',\n",
       " 'iperf Done.',\n",
       " '']"
      ]
     },
     "execution_count": 65,
     "metadata": {},
     "output_type": "execute_result"
    }
   ],
   "source": [
    "server_ip=\"128.205.71.134\"\n",
    "server_port=\"5201\"\n",
    "stream_number=\"1\"\n",
    "time_duration=\"1\"\n",
    "# command=\"iperf3 -ZVc \"+server_ip+ \" --port \"+server_port+\" -P\"+stream_number+\" -t\"+time_duration+\" -l8192\"\n",
    "data = os.popen(command).read().split(\"\\n\")\n",
    "data"
   ]
  },
  {
   "cell_type": "code",
   "execution_count": null,
   "id": "cf03fcd7",
   "metadata": {},
   "outputs": [],
   "source": []
  },
  {
   "cell_type": "code",
   "execution_count": null,
   "id": "60b63a53",
   "metadata": {},
   "outputs": [],
   "source": []
  },
  {
   "cell_type": "code",
   "execution_count": null,
   "id": "d634715c",
   "metadata": {},
   "outputs": [],
   "source": []
  },
  {
   "cell_type": "code",
   "execution_count": null,
   "id": "3bfcd3e0",
   "metadata": {},
   "outputs": [],
   "source": []
  }
 ],
 "metadata": {
  "kernelspec": {
   "display_name": "Python 3 (ipykernel)",
   "language": "python",
   "name": "python3"
  },
  "language_info": {
   "codemirror_mode": {
    "name": "ipython",
    "version": 3
   },
   "file_extension": ".py",
   "mimetype": "text/x-python",
   "name": "python",
   "nbconvert_exporter": "python",
   "pygments_lexer": "ipython3",
   "version": "3.8.0"
  }
 },
 "nbformat": 4,
 "nbformat_minor": 5
}
